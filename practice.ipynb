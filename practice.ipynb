{
  "nbformat": 4,
  "nbformat_minor": 0,
  "metadata": {
    "colab": {
      "provenance": [],
      "authorship_tag": "ABX9TyMwYfRbHBRZTuvXFMjkfOw6",
      "include_colab_link": true
    },
    "kernelspec": {
      "name": "python3",
      "display_name": "Python 3"
    },
    "language_info": {
      "name": "python"
    }
  },
  "cells": [
    {
      "cell_type": "markdown",
      "metadata": {
        "id": "view-in-github",
        "colab_type": "text"
      },
      "source": [
        "<a href=\"https://colab.research.google.com/github/ebapudeogracious/BSG_gis/blob/main/practice.ipynb\" target=\"_parent\"><img src=\"https://colab.research.google.com/assets/colab-badge.svg\" alt=\"Open In Colab\"/></a>"
      ]
    },
    {
      "cell_type": "markdown",
      "source": [
        "variable assignment"
      ],
      "metadata": {
        "id": "TN6XIxJbzW4a"
      }
    },
    {
      "cell_type": "code",
      "source": [
        "# Variable assignment\n",
        "x=7\n",
        "y=10\n",
        "print (x,y)\n",
        "type(x),type(y)"
      ],
      "metadata": {
        "colab": {
          "base_uri": "https://localhost:8080/"
        },
        "id": "NFQZFXTMzxnR",
        "outputId": "118b5fb4-4b14-469c-8d60-c89c8dd5aba7"
      },
      "execution_count": null,
      "outputs": [
        {
          "output_type": "stream",
          "name": "stdout",
          "text": [
            "7 10\n"
          ]
        },
        {
          "output_type": "execute_result",
          "data": {
            "text/plain": [
              "(int, int)"
            ]
          },
          "metadata": {},
          "execution_count": 1
        }
      ]
    },
    {
      "cell_type": "code",
      "source": [
        "# Print Statement\n",
        "print(\"welcome home!\")"
      ],
      "metadata": {
        "colab": {
          "base_uri": "https://localhost:8080/"
        },
        "id": "SBBDlAyP05tg",
        "outputId": "a4fc5715-90a2-4775-cd47-15416bb1fb4a"
      },
      "execution_count": null,
      "outputs": [
        {
          "output_type": "stream",
          "name": "stdout",
          "text": [
            "welcome home!\n"
          ]
        }
      ]
    },
    {
      "cell_type": "code",
      "source": [
        "# Numeric Operations\n",
        "e=20\n",
        "d=50\n",
        "print(e),(d)\n",
        "print(e+d)\n",
        "print(e/d)\n",
        "print(e*d)\n",
        "print(e-d)"
      ],
      "metadata": {
        "colab": {
          "base_uri": "https://localhost:8080/"
        },
        "id": "mIVICONf1p7x",
        "outputId": "65ab1560-0709-40c9-d0b5-7570e37696b6"
      },
      "execution_count": null,
      "outputs": [
        {
          "output_type": "stream",
          "name": "stdout",
          "text": [
            "20\n",
            "70\n",
            "0.4\n",
            "1000\n",
            "-30\n"
          ]
        }
      ]
    },
    {
      "cell_type": "code",
      "execution_count": null,
      "metadata": {
        "colab": {
          "base_uri": "https://localhost:8080/"
        },
        "id": "S1QXKCf3zFBv",
        "outputId": "1f8d1fab-995b-421d-8aa4-518c3f89f8f4"
      },
      "outputs": [
        {
          "output_type": "stream",
          "name": "stdout",
          "text": [
            "ebapuebapuebapuebapu\n"
          ]
        }
      ],
      "source": [
        "# String Repetition\n",
        "given_name=\"ebapu\"\n",
        "print(given_name*4)"
      ]
    },
    {
      "cell_type": "code",
      "source": [
        "# Variable Swap\n",
        "e=3\n",
        "d=5\n",
        "print(e)\n",
        "print(d)\n",
        "\n",
        "\n",
        "temp=e\n",
        "e=d\n",
        "d=temp\n",
        "print(e)\n",
        "print(d)"
      ],
      "metadata": {
        "colab": {
          "base_uri": "https://localhost:8080/"
        },
        "id": "gcAIfcul3sRy",
        "outputId": "56f945ed-b89b-4f22-8b11-328050188432"
      },
      "execution_count": null,
      "outputs": [
        {
          "output_type": "stream",
          "name": "stdout",
          "text": [
            "3\n",
            "5\n",
            "5\n",
            "3\n"
          ]
        }
      ]
    },
    {
      "cell_type": "code",
      "source": [
        "# String Length\n",
        "str=\"akandwanaho\"\n",
        "len(str)"
      ],
      "metadata": {
        "colab": {
          "base_uri": "https://localhost:8080/"
        },
        "id": "batNpsC74rew",
        "outputId": "b17ad552-2358-4ef5-f9c2-636c448edafa"
      },
      "execution_count": null,
      "outputs": [
        {
          "output_type": "execute_result",
          "data": {
            "text/plain": [
              "11"
            ]
          },
          "metadata": {},
          "execution_count": 7
        }
      ]
    },
    {
      "cell_type": "code",
      "source": [
        "# Type Conversation\n",
        "num=11\n",
        "str=\"akandwanaho\""
      ],
      "metadata": {
        "id": "5vqx39io5f6J"
      },
      "execution_count": 8,
      "outputs": []
    },
    {
      "cell_type": "code",
      "source": [
        "# Formatted String\n",
        "e=3\n",
        "d=5"
      ],
      "metadata": {
        "id": "_qNLnulN6Ns3"
      },
      "execution_count": 9,
      "outputs": []
    }
  ]
}