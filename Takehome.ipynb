{
  "nbformat": 4,
  "nbformat_minor": 0,
  "metadata": {
    "colab": {
      "provenance": [],
      "authorship_tag": "ABX9TyN4cQcVMzMrKwXsiimpijOs",
      "include_colab_link": true
    },
    "kernelspec": {
      "name": "python3",
      "display_name": "Python 3"
    },
    "language_info": {
      "name": "python"
    }
  },
  "cells": [
    {
      "cell_type": "markdown",
      "metadata": {
        "id": "view-in-github",
        "colab_type": "text"
      },
      "source": [
        "<a href=\"https://colab.research.google.com/github/ebapudeogracious/BSG_gis/blob/main/Takehome.ipynb\" target=\"_parent\"><img src=\"https://colab.research.google.com/assets/colab-badge.svg\" alt=\"Open In Colab\"/></a>"
      ]
    },
    {
      "cell_type": "markdown",
      "source": [
        "assignment practice"
      ],
      "metadata": {
        "id": "I5zMqe827Ol9"
      }
    },
    {
      "cell_type": "code",
      "source": [
        "# Variables\n",
        "x=20\n",
        "y=17.8\n",
        "print(x,y)\n",
        "type(x),type(y)"
      ],
      "metadata": {
        "colab": {
          "base_uri": "https://localhost:8080/"
        },
        "id": "WZ3xkEV28M7J",
        "outputId": "98a46f84-518f-4dd3-a23e-a7c088e76c1f"
      },
      "execution_count": null,
      "outputs": [
        {
          "output_type": "stream",
          "name": "stdout",
          "text": [
            "20 17.8\n"
          ]
        },
        {
          "output_type": "execute_result",
          "data": {
            "text/plain": [
              "(int, float)"
            ]
          },
          "metadata": {},
          "execution_count": 3
        }
      ]
    },
    {
      "cell_type": "code",
      "source": [
        "# Print Statement\n",
        "print(\"Hello World!\")"
      ],
      "metadata": {
        "colab": {
          "base_uri": "https://localhost:8080/"
        },
        "id": "X-oVGX7s8_AX",
        "outputId": "46164088-2337-45ad-fa54-675fe7b5afb4"
      },
      "execution_count": null,
      "outputs": [
        {
          "output_type": "stream",
          "name": "stdout",
          "text": [
            "Hello World!\n"
          ]
        }
      ]
    },
    {
      "cell_type": "code",
      "source": [
        "# Numeric Operation\n",
        "a=178\n",
        "b=49\n",
        "print(a,b)\n",
        "print(a/b)\n",
        "print(a*b)\n",
        "print(a+b)\n",
        "print(a-b)"
      ],
      "metadata": {
        "colab": {
          "base_uri": "https://localhost:8080/"
        },
        "id": "hF9PfWD49NE4",
        "outputId": "a48242a3-ef20-4f1d-d511-97219ecda091"
      },
      "execution_count": null,
      "outputs": [
        {
          "output_type": "stream",
          "name": "stdout",
          "text": [
            "178 49\n",
            "3.63265306122449\n",
            "8722\n",
            "227\n",
            "129\n"
          ]
        }
      ]
    },
    {
      "cell_type": "code",
      "source": [
        "# String Repetition\n",
        "given_name=\"ebapudeogracious\"\n",
        "print(given_name*5)"
      ],
      "metadata": {
        "colab": {
          "base_uri": "https://localhost:8080/"
        },
        "id": "Sw0vBzrX_BSS",
        "outputId": "3d1c808c-8b9a-4a98-c60f-ba1e8a25da69"
      },
      "execution_count": null,
      "outputs": [
        {
          "output_type": "stream",
          "name": "stdout",
          "text": [
            "ebapudeograciousebapudeograciousebapudeograciousebapudeograciousebapudeogracious\n"
          ]
        }
      ]
    },
    {
      "cell_type": "code",
      "source": [
        "# Variable Swap\n",
        "c=10\n",
        "d=3\n",
        "print(c)\n",
        "print(d)\n",
        "\n",
        "temp=c\n",
        "c=d\n",
        "d=temp\n",
        "print(c)\n",
        "print(d)"
      ],
      "metadata": {
        "colab": {
          "base_uri": "https://localhost:8080/"
        },
        "id": "J4nlW_a4_pu4",
        "outputId": "cd4ebc0c-8abc-44d9-8aaf-8ac965c49ab0"
      },
      "execution_count": null,
      "outputs": [
        {
          "output_type": "stream",
          "name": "stdout",
          "text": [
            "10\n",
            "3\n",
            "3\n",
            "10\n"
          ]
        }
      ]
    },
    {
      "cell_type": "code",
      "source": [
        "# String Length\n",
        "str=\"deogracious\"\n",
        "len(str)"
      ],
      "metadata": {
        "colab": {
          "base_uri": "https://localhost:8080/"
        },
        "id": "Vm4L9X1kBgKb",
        "outputId": "bb8e8a8e-efc7-4854-83f9-8b412d921fe8"
      },
      "execution_count": null,
      "outputs": [
        {
          "output_type": "execute_result",
          "data": {
            "text/plain": [
              "11"
            ]
          },
          "metadata": {},
          "execution_count": 13
        }
      ]
    },
    {
      "cell_type": "code",
      "source": [
        "# Type Conversion\n",
        "f_num=5\n",
        "str=\"deogracious\"\n",
        "# %s\n",
        "print(\"deogracious\" + '%s' %5)\n",
        "\n"
      ],
      "metadata": {
        "id": "cCS2nhHkB6ml",
        "colab": {
          "base_uri": "https://localhost:8080/"
        },
        "outputId": "52e22fd1-da70-4657-9258-b94cfdcf95f5"
      },
      "execution_count": 39,
      "outputs": [
        {
          "output_type": "stream",
          "name": "stdout",
          "text": [
            "deogracious5\n"
          ]
        }
      ]
    },
    {
      "cell_type": "code",
      "source": [
        "# Formatted String\n",
        "a=5\n",
        "b=6\n",
        "f'{a+b}'"
      ],
      "metadata": {
        "id": "GqwuqG3WEWHL",
        "colab": {
          "base_uri": "https://localhost:8080/",
          "height": 35
        },
        "outputId": "fbb7ff86-3bf5-4337-bf1b-ea3a80763416"
      },
      "execution_count": 48,
      "outputs": [
        {
          "output_type": "execute_result",
          "data": {
            "text/plain": [
              "'11'"
            ],
            "application/vnd.google.colaboratory.intrinsic+json": {
              "type": "string"
            }
          },
          "metadata": {},
          "execution_count": 48
        }
      ]
    }
  ]
}