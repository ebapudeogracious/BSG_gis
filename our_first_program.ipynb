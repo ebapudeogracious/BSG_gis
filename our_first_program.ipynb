{
  "nbformat": 4,
  "nbformat_minor": 0,
  "metadata": {
    "colab": {
      "provenance": [],
      "authorship_tag": "ABX9TyPpcuNnj38vC1NyXoXJGW91",
      "include_colab_link": true
    },
    "kernelspec": {
      "name": "python3",
      "display_name": "Python 3"
    },
    "language_info": {
      "name": "python"
    }
  },
  "cells": [
    {
      "cell_type": "markdown",
      "metadata": {
        "id": "view-in-github",
        "colab_type": "text"
      },
      "source": [
        "<a href=\"https://colab.research.google.com/github/ebapudeogracious/BSG_gis/blob/main/our_first_program.ipynb\" target=\"_parent\"><img src=\"https://colab.research.google.com/assets/colab-badge.svg\" alt=\"Open In Colab\"/></a>"
      ]
    },
    {
      "cell_type": "markdown",
      "source": [
        "**our first program**"
      ],
      "metadata": {
        "id": "eYQ_jViaOEnR"
      }
    },
    {
      "cell_type": "code",
      "source": [
        "# Adding two numbers\n",
        "first_num=2\n",
        "second_num=3\n",
        "sum=first_num+second_num\n",
        "print(sum)"
      ],
      "metadata": {
        "colab": {
          "base_uri": "https://localhost:8080/"
        },
        "id": "q7ujPGEXPJSN",
        "outputId": "eeec1b2b-431d-423a-be6a-1e4364a3a896"
      },
      "execution_count": 1,
      "outputs": [
        {
          "output_type": "stream",
          "name": "stdout",
          "text": [
            "5\n"
          ]
        }
      ]
    },
    {
      "cell_type": "code",
      "execution_count": null,
      "metadata": {
        "id": "DSpKvOaCLA-l"
      },
      "outputs": [],
      "source": []
    }
  ]
}